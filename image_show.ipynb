{
 "cells": [
  {
   "cell_type": "code",
   "execution_count": null,
   "metadata": {
    "collapsed": true
   },
   "outputs": [],
   "source": [
    "input_path = \".\"\n",
    "output_path = \"output\"\n",
    "relabel_output = '{}/{}'.format(output_path, 'needs_relabel')\n",
    "approved_output = '{}/{}'.format(output_path, 'approved_labels')\n",
    "#TODO approve images that are not relabeled? move to separate folder with xml-file"
   ]
  },
  {
   "cell_type": "code",
   "execution_count": null,
   "metadata": {
    "collapsed": false
   },
   "outputs": [],
   "source": [
    "#Run this cell to look through pics after running all other cells.\n",
    "next_button = widgets.Button(description=\"Approve labels\")\n",
    "reject_button = widgets.Button(description=\"Reject labels\")\n",
    "\n",
    "def display_next_image(button_event):\n",
    "    if len(prev_xml_files) > 0:\n",
    "        approve_annotation(prev_xml_files.pop())\n",
    "    print('Number of images remaining: {}'.format(len(xml_files)))\n",
    "    if len(plt.get_fignums()) > 0:\n",
    "        clear_output()\n",
    "        plt.close('all')\n",
    "    current_file = xml_files.pop()\n",
    "    display_img('{}/{}'.format(input_path, current_file))\n",
    "    prev_xml_files.append(current_file)\n",
    "    \n",
    "def reject_image(button_event):\n",
    "    reject_image_label('{}/{}'.format(input_path, prev_xml_files.pop()))\n",
    "    \n",
    "next_button.on_click(display_next_image)\n",
    "reject_button.on_click(reject_image)\n",
    "display(next_button)\n",
    "display(reject_button)"
   ]
  },
  {
   "cell_type": "code",
   "execution_count": null,
   "metadata": {
    "collapsed": false
   },
   "outputs": [],
   "source": [
    "from bs4 import BeautifulSoup\n",
    "from IPython.display import display\n",
    "from IPython.display import clear_output\n",
    "from ipywidgets import widgets\n",
    "import os\n",
    "import shutil\n",
    "import matplotlib.image as mpimg\n",
    "import matplotlib.pyplot as plt\n",
    "import matplotlib.patches as patches\n",
    "import numpy as np\n",
    "from pylab import rcParams\n",
    "rcParams['figure.figsize'] = (15, 15)\n",
    "%matplotlib inline\n",
    "#Lets us reference plots created in other cells. Aka make plots/figures global.\n",
    "%config InlineBackend.close_figures=False"
   ]
  },
  {
   "cell_type": "code",
   "execution_count": null,
   "metadata": {
    "collapsed": false
   },
   "outputs": [],
   "source": [
    "def draw_annotation_rectangle(figure, labeled_object):\n",
    "    bound_box = labeled_object.bndbox\n",
    "    rectangle = figure.add_subplot(111, aspect='equal')\n",
    "    xmin = int(bound_box.xmin.text)\n",
    "    xmax = int(bound_box.xmax.text)\n",
    "    ymin = int(bound_box.ymin.text)\n",
    "    ymax = int(bound_box.ymax.text)\n",
    "    rectangle.add_patch(patches.Rectangle((xmin, ymin), xmax-xmin, ymax-ymin, fill=False, \n",
    "                                          edgecolor=np.random.rand(3,1)))\n",
    "    return labeled_object.find('name').text\n",
    "\n",
    "def reject_image_label(xml_path):\n",
    "    if not os.path.exists(relabel_output):\n",
    "        os.makedirs(relabel_output)\n",
    "    annotation = load_image_annotation(xml_path)\n",
    "    shutil.copyfile(annotation.path.text, '{}/{}.jpg'.format(output_path, annotation.filename.text))\n",
    "    \n",
    "def load_image_annotation(xml_filename):\n",
    "    annotation = None\n",
    "    with open(xml_filename) as xml_file:\n",
    "        soup = BeautifulSoup(xml_file, 'lxml')\n",
    "        annotation = soup.html.body.annotation\n",
    "    return annotation\n",
    "\n",
    "def display_img(xml_filename):\n",
    "    annotation = load_image_annotation(xml_filename)\n",
    "    img = mpimg.imread(annotation.path.text)\n",
    "    figure = plt.figure()\n",
    "    labels = []\n",
    "    for index, labeled_object in enumerate(annotation.find_all('object')):\n",
    "        labels.append(draw_annotation_rectangle(figure, labeled_object))\n",
    "    plt.legend(labels=labels, loc=\"upper left\", bbox_to_anchor=(1,1))\n",
    "    plt.imshow(img, cmap='Set3')\n",
    "    \n",
    "def get_all_xml_files(directory):\n",
    "    return [filename for filename in os.listdir(directory) if \".xml\" in filename]\n",
    "\n",
    "def approve_annotation(xml_filename):\n",
    "    if not os.path.exists(approved_output):\n",
    "        os.makedirs(approved_output)\n",
    "    annotation = load_image_annotation('{}/{}'.format(input_path, xml_filename))\n",
    "    shutil.move(annotation.path.text, '{}/{}.jpg'.format(approved_output, annotation.filename.text))\n",
    "    shutil.move('{}/{}'.format(input_path, xml_filename), '{}/{}.jpg'.format(approved_output, xml_filename))\n",
    "    "
   ]
  },
  {
   "cell_type": "code",
   "execution_count": null,
   "metadata": {
    "collapsed": true
   },
   "outputs": [],
   "source": [
    "xml_files = get_all_xml_files(input_path)\n",
    "prev_xml_files = []"
   ]
  }
 ],
 "metadata": {
  "anaconda-cloud": {},
  "kernelspec": {
   "display_name": "Python [conda root]",
   "language": "python",
   "name": "conda-root-py"
  },
  "language_info": {
   "codemirror_mode": {
    "name": "ipython",
    "version": 2
   },
   "file_extension": ".py",
   "mimetype": "text/x-python",
   "name": "python",
   "nbconvert_exporter": "python",
   "pygments_lexer": "ipython2",
   "version": "2.7.13"
  },
  "widgets": {
   "state": {
    "0c92ea719d00415a86cb05e0a7bdfe89": {
     "views": [
      {
       "cell_index": 1
      }
     ]
    },
    "2466a4f6f011442cbdba340582e2d893": {
     "views": [
      {
       "cell_index": 1
      }
     ]
    },
    "254f97b48ac24e2a83f2d48537397ab7": {
     "views": [
      {
       "cell_index": 1
      }
     ]
    },
    "3200aebccedf4b6d878d8c3ad24b1566": {
     "views": [
      {
       "cell_index": 1
      }
     ]
    },
    "3ff1a05d66a64d0a8ac679fa01854022": {
     "views": [
      {
       "cell_index": 1
      }
     ]
    },
    "40a6be178c584253a25f0e02c7875e56": {
     "views": [
      {
       "cell_index": 1
      }
     ]
    },
    "4566a6a56af4437aab0ef03ee53fa82d": {
     "views": [
      {
       "cell_index": 1
      }
     ]
    },
    "4db0c88caf724cd0a69497a6f62702d5": {
     "views": [
      {
       "cell_index": 1
      },
      {
       "cell_index": 1
      }
     ]
    },
    "5b786a6fa6af4da08022b7785866299b": {
     "views": [
      {
       "cell_index": 1
      }
     ]
    },
    "6a3be43e809a4a9c87e87a4b8706da5e": {
     "views": [
      {
       "cell_index": 1
      }
     ]
    },
    "6ec45cfa458740a49d15211d6f438f1c": {
     "views": [
      {
       "cell_index": 1
      }
     ]
    },
    "786087b1ce8e43109f027a426b08ddd9": {
     "views": [
      {
       "cell_index": 1
      }
     ]
    },
    "7bc16db4a4474aaca49b4dcf48b122d4": {
     "views": [
      {
       "cell_index": 1
      }
     ]
    },
    "7c101a990b524a3287cdd7e3e8a05d90": {
     "views": [
      {
       "cell_index": 1
      }
     ]
    },
    "87753e10d3854052a587bf0526c5267d": {
     "views": [
      {
       "cell_index": 1
      }
     ]
    },
    "8f09a033ae364848a993ec3f1951ca5d": {
     "views": [
      {
       "cell_index": 1
      }
     ]
    },
    "cff964741961423da9d176f9109fea79": {
     "views": [
      {
       "cell_index": 1
      }
     ]
    },
    "ed029d3e60474d57827ed372721313bf": {
     "views": [
      {
       "cell_index": 1
      }
     ]
    },
    "ff70e5140ed441948d77928f19cb4418": {
     "views": [
      {
       "cell_index": 1
      }
     ]
    }
   },
   "version": "1.2.0"
  }
 },
 "nbformat": 4,
 "nbformat_minor": 2
}
