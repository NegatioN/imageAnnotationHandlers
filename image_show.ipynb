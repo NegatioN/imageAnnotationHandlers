{
 "cells": [
  {
   "cell_type": "code",
   "execution_count": null,
   "metadata": {
    "collapsed": true
   },
   "outputs": [],
   "source": [
    "input_path = \".\"\n",
    "output_path = \"needs_relabel\""
   ]
  },
  {
   "cell_type": "code",
   "execution_count": null,
   "metadata": {
    "collapsed": true
   },
   "outputs": [],
   "source": [
    "from bs4 import BeautifulSoup\n",
    "import os\n",
    "import shutil\n",
    "import matplotlib.image as mpimg\n",
    "import matplotlib.pyplot as plt\n",
    "import matplotlib.patches as patches\n",
    "import numpy as np\n",
    "import time\n",
    "%matplotlib inline"
   ]
  },
  {
   "cell_type": "code",
   "execution_count": null,
   "metadata": {
    "collapsed": true
   },
   "outputs": [],
   "source": [
    "def draw_annotation_rectangle(figure, labeled_object):\n",
    "    bound_box = labeled_object.bndbox\n",
    "    rectangle = figure.add_subplot(111, aspect='equal')\n",
    "    xmin = int(bound_box.xmin.text)\n",
    "    xmax = int(bound_box.xmax.text)\n",
    "    ymin = int(bound_box.ymin.text)\n",
    "    ymax = int(bound_box.ymax.text)\n",
    "    rectangle.add_patch(patches.Rectangle((xmin, ymin), xmax-xmin, ymax-ymin, fill=False, \n",
    "                                          edgecolor=np.random.rand(3,1)))\n",
    "    return labeled_object.find('name').text\n",
    "\n",
    "def reject_image_label(xml_path, name):\n",
    "    if not os.path.exists(output_path):\n",
    "        os.makedirs(output_path)\n",
    "    annotation = load_image_annotation(xml_path)\n",
    "    shutil.copyfile(annotation.path.text, '{}/{}.jpg'.format(output_path, annotation.filename.text))\n",
    "    \n",
    "def load_image_annotation(xml_filename):\n",
    "    annotation = None\n",
    "    with open(xml_filename) as xml_file:\n",
    "        soup = BeautifulSoup(xml_file, 'lxml')\n",
    "        annotation = soup.html.body.annotation\n",
    "    return annotation\n",
    "\n",
    "def display_img(xml_filename):\n",
    "    annotation = load_image_annotation(xml_filename)\n",
    "    img = mpimg.imread(annotation.path.text)\n",
    "    figure = plt.figure()\n",
    "    labels = []\n",
    "    for index, labeled_object in enumerate(annotation.find_all('object')):\n",
    "        labels.append(draw_annotation_rectangle(figure, labeled_object))\n",
    "    plt.legend(labels=labels)\n",
    "    plt.imshow(img, cmap='Set3')\n",
    "    \n",
    "def get_all_xml_files(directory):\n",
    "    return [filename for filename in os.listdir(directory) if \".xml\" in filename]"
   ]
  },
  {
   "cell_type": "code",
   "execution_count": null,
   "metadata": {
    "collapsed": true
   },
   "outputs": [],
   "source": [
    "xml_files = get_all_xml_files(input_path)"
   ]
  },
  {
   "cell_type": "code",
   "execution_count": null,
   "metadata": {
    "collapsed": false
   },
   "outputs": [],
   "source": [
    "current_file = xml_files.pop()\n",
    "display_img('{}/{}'.format(input_path, current_file))"
   ]
  },
  {
   "cell_type": "code",
   "execution_count": null,
   "metadata": {
    "collapsed": false
   },
   "outputs": [],
   "source": [
    "reject_image_label('{}/{}'.format(input_path, current_file), current_file)"
   ]
  },
  {
   "cell_type": "code",
   "execution_count": null,
   "metadata": {
    "collapsed": true
   },
   "outputs": [],
   "source": []
  }
 ],
 "metadata": {
  "anaconda-cloud": {},
  "kernelspec": {
   "display_name": "Python [conda root]",
   "language": "python",
   "name": "conda-root-py"
  },
  "language_info": {
   "codemirror_mode": {
    "name": "ipython",
    "version": 2
   },
   "file_extension": ".py",
   "mimetype": "text/x-python",
   "name": "python",
   "nbconvert_exporter": "python",
   "pygments_lexer": "ipython2",
   "version": "2.7.13"
  }
 },
 "nbformat": 4,
 "nbformat_minor": 2
}
