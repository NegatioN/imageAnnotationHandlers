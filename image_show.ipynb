{
 "cells": [
  {
   "cell_type": "code",
   "execution_count": null,
   "metadata": {
    "collapsed": true
   },
   "outputs": [],
   "source": [
    "input_path = \".\"\n",
    "output_path = \"output\"\n",
    "relabel_output = '{}/{}'.format(output_path, 'needs_relabel')\n",
    "approved_output = '{}/{}'.format(output_path, 'approved_labels')"
   ]
  },
  {
   "cell_type": "code",
   "execution_count": null,
   "metadata": {
    "collapsed": false
   },
   "outputs": [],
   "source": [
    "#Run this cell to look through pics after running all other cells.\n",
    "next_button = widgets.Button(description=\"Approve labels\")\n",
    "reject_button = widgets.Button(description=\"Reject labels\")\n",
    "\n",
    "def approve_image(button_event):\n",
    "    if len(prev_xml_files) > 0:\n",
    "        approve_annotation(prev_xml_files.pop())\n",
    "    display_next_image()\n",
    "    \n",
    "def reject_image(button_event):\n",
    "    if len(prev_xml_files) > 0:\n",
    "        reject_image_label(prev_xml_files.pop())\n",
    "    display_next_image()\n",
    "    \n",
    "def display_next_image():\n",
    "    if len(plt.get_fignums()) > 0:\n",
    "        clear_output()\n",
    "        plt.close('all')\n",
    "    print('Number of images remaining: {}'.format(len(xml_files)))\n",
    "    current_file = xml_files.pop()\n",
    "    display_img('{}/{}'.format(input_path, current_file))\n",
    "    prev_xml_files.append(current_file)\n",
    "    \n",
    "next_button.on_click(approve_image)\n",
    "reject_button.on_click(reject_image)\n",
    "display(next_button)\n",
    "display(reject_button)"
   ]
  },
  {
   "cell_type": "code",
   "execution_count": null,
   "metadata": {
    "collapsed": false
   },
   "outputs": [],
   "source": [
    "from bs4 import BeautifulSoup\n",
    "from IPython.display import display\n",
    "from IPython.display import clear_output\n",
    "from ipywidgets import widgets\n",
    "import os\n",
    "import shutil\n",
    "import matplotlib.image as mpimg\n",
    "import matplotlib.pyplot as plt\n",
    "import matplotlib.patches as patches\n",
    "import numpy as np\n",
    "from pylab import rcParams\n",
    "rcParams['figure.figsize'] = (15, 15)\n",
    "%matplotlib inline\n",
    "#Lets us reference plots created in other cells. Aka make plots/figures global.\n",
    "%config InlineBackend.close_figures=False"
   ]
  },
  {
   "cell_type": "code",
   "execution_count": null,
   "metadata": {
    "collapsed": false
   },
   "outputs": [],
   "source": [
    "def draw_annotation_rectangle(figure, labeled_object):\n",
    "    bound_box = labeled_object.bndbox\n",
    "    rectangle = figure.add_subplot(111, aspect='equal')\n",
    "    xmin = int(bound_box.xmin.text)\n",
    "    xmax = int(bound_box.xmax.text)\n",
    "    ymin = int(bound_box.ymin.text)\n",
    "    ymax = int(bound_box.ymax.text)\n",
    "    rectangle.add_patch(patches.Rectangle((xmin, ymin), xmax-xmin, ymax-ymin, fill=False, \n",
    "                                          edgecolor=np.random.rand(3,1)))\n",
    "    return labeled_object.find('name').text\n",
    "\n",
    "def save_progress(xml_filename):\n",
    "    with open('{}/progress.save'.format(input_path), 'a') as save_file:\n",
    "        save_file.write(xml_filename + \"\\n\")\n",
    "\n",
    "def reject_image_label(xml_path):\n",
    "    if not os.path.exists(relabel_output):\n",
    "        os.makedirs(relabel_output)\n",
    "    annotation = load_image_annotation('{}/{}'.format(input_path, xml_path))\n",
    "    shutil.copyfile(annotation.path.text, '{}/{}.jpg'.format(relabel_output, annotation.filename.text))\n",
    "    save_progress(xml_path)\n",
    "    \n",
    "def load_image_annotation(xml_filename):\n",
    "    annotation = None\n",
    "    with open(xml_filename) as xml_file:\n",
    "        soup = BeautifulSoup(xml_file, 'lxml')\n",
    "        annotation = soup.html.body.annotation\n",
    "    return annotation\n",
    "\n",
    "def display_img(xml_filename):\n",
    "    annotation = load_image_annotation(xml_filename)\n",
    "    img = mpimg.imread(annotation.path.text)\n",
    "    figure = plt.figure()\n",
    "    labels = []\n",
    "    for index, labeled_object in enumerate(annotation.find_all('object')):\n",
    "        labels.append(draw_annotation_rectangle(figure, labeled_object))\n",
    "    plt.legend(labels=labels, loc=\"upper left\", bbox_to_anchor=(1,1))\n",
    "    plt.imshow(img, cmap='Set3')\n",
    "    \n",
    "def get_all_xml_files(directory):\n",
    "    try:\n",
    "        consumed_xml_files_newlined = list(open('{}/progress.save'.format(input_path), 'r'))\n",
    "        consumed_xml_files = [filename.strip() for filename in consumed_xml_files_newlined]\n",
    "    except:\n",
    "        consumed_xml_files = []\n",
    "    return [filename for filename in os.listdir(directory) \n",
    "            if \".xml\" in filename and filename not in consumed_xml_files]\n",
    "\n",
    "def approve_annotation(xml_filename):\n",
    "    if not os.path.exists(approved_output):\n",
    "        os.makedirs(approved_output)\n",
    "    annotation = load_image_annotation('{}/{}'.format(input_path, xml_filename))\n",
    "    shutil.copyfile(annotation.path.text, '{}/{}.jpg'.format(approved_output, annotation.filename.text))\n",
    "    shutil.copyfile('{}/{}'.format(input_path, xml_filename), '{}/{}.jpg'.format(approved_output, xml_filename))\n",
    "    save_progress(xml_filename)"
   ]
  },
  {
   "cell_type": "code",
   "execution_count": null,
   "metadata": {
    "collapsed": false
   },
   "outputs": [],
   "source": [
    "xml_files = get_all_xml_files(input_path)\n",
    "prev_xml_files = []"
   ]
  },
  {
   "cell_type": "code",
   "execution_count": null,
   "metadata": {
    "collapsed": true
   },
   "outputs": [],
   "source": [
    ""
   ]
  }
 ],
 "metadata": {
  "anaconda-cloud": {},
  "kernelspec": {
   "display_name": "Python [conda root]",
   "language": "python",
   "name": "conda-root-py"
  },
  "language_info": {
   "codemirror_mode": {
    "name": "ipython",
    "version": 2.0
   },
   "file_extension": ".py",
   "mimetype": "text/x-python",
   "name": "python",
   "nbconvert_exporter": "python",
   "pygments_lexer": "ipython2",
   "version": "2.7.13"
  },
  "widgets": {
   "state": {
    "007465e42d4b4dfe8e62072cd636c620": {
     "views": [
      {
       "cell_index": 1.0
      }
     ]
    },
    "00e58f6c7baf4af78ff002fdd40db89e": {
     "views": [
      {
       "cell_index": 1.0
      }
     ]
    },
    "295fbe122b2541a19b93df0a8a1b4ff0": {
     "views": [
      {
       "cell_index": 1.0
      }
     ]
    },
    "3353328a6c7b418da95f95998bd40c2e": {
     "views": [
      {
       "cell_index": 1.0
      }
     ]
    },
    "3d2cfc7ff23c43cbb0af35ed26fbad24": {
     "views": [
      {
       "cell_index": 1.0
      }
     ]
    },
    "b3ab3ae6c959418dae6b0f76315f1ce4": {
     "views": [
      {
       "cell_index": 1.0
      }
     ]
    },
    "e85141396d714d20a78fad6aa8ac5364": {
     "views": [
      {
       "cell_index": 1.0
      }
     ]
    },
    "fd284b77bb284064808b843d5a57114a": {
     "views": [
      {
       "cell_index": 1.0
      }
     ]
    }
   },
   "version": "1.2.0"
  }
 },
 "nbformat": 4,
 "nbformat_minor": 0
}